{
 "cells": [
  {
   "cell_type": "markdown",
   "id": "ae80cf73",
   "metadata": {
    "id": "ae80cf73"
   },
   "source": [
    "# Семинар 1: Введение в Python и условные конструкции"
   ]
  },
  {
   "cell_type": "markdown",
   "id": "9148196f",
   "metadata": {
    "id": "9148196f"
   },
   "source": [
    "## Краткое повторение первой недели"
   ]
  },
  {
   "cell_type": "markdown",
   "id": "931370ad",
   "metadata": {
    "id": "931370ad"
   },
   "source": [
    "## Типы данных: Строки (текст) - STR (STRING)"
   ]
  },
  {
   "cell_type": "markdown",
   "id": "0EBhvCEkzaj3",
   "metadata": {
    "id": "0EBhvCEkzaj3"
   },
   "source": [
    "Вас взяли на стажировку в учебный офис ФКМД, и дали задание создать адреса корпоративных почт для первокурсников. Обычно такая почта состоит из первой буквы имени, первой буквы отчества и фамилии, а потом добавляется домен @edu.hse.ru . Так как умный человек должен быть по-хорошему ленив, то вы решили задействовать для этого Python и сделать программу, которая будет запрашивать Имя, Отчество и Фамилию латиницей, а потом выдавать адрес. Как можно написать такую программу?"
   ]
  },
  {
   "cell_type": "code",
   "execution_count": null,
   "id": "9c3Dfhcj9OQr",
   "metadata": {
    "id": "9c3Dfhcj9OQr"
   },
   "outputs": [],
   "source": [
    "# здесь мы можем решить эту супер-задачу"
   ]
  },
  {
   "cell_type": "code",
   "execution_count": null,
   "id": "2b5d04a7",
   "metadata": {
    "id": "2b5d04a7",
    "outputId": "935e823d-de6a-4e71-82d4-c40467808671"
   },
   "outputs": [
    {
     "name": "stdout",
     "output_type": "stream",
     "text": [
      "Моё имя:\n"
     ]
    }
   ],
   "source": [
    "print('Моё имя:')"
   ]
  },
  {
   "cell_type": "code",
   "execution_count": null,
   "id": "8083a5a2",
   "metadata": {
    "id": "8083a5a2",
    "outputId": "2286f016-0999-4d50-b167-6e74779a4967"
   },
   "outputs": [
    {
     "data": {
      "text/plain": [
       "str"
      ]
     },
     "execution_count": 34,
     "metadata": {},
     "output_type": "execute_result"
    }
   ],
   "source": [
    "type('Маргарита')"
   ]
  },
  {
   "cell_type": "code",
   "execution_count": null,
   "id": "75b20d08",
   "metadata": {
    "id": "75b20d08",
    "outputId": "ec05b255-02b1-42a1-aef5-52b4b1e663e4"
   },
   "outputs": [
    {
     "name": "stdout",
     "output_type": "stream",
     "text": [
      "Перваяпара\n"
     ]
    }
   ],
   "source": [
    "print('Первая'+'пара')"
   ]
  },
  {
   "cell_type": "code",
   "execution_count": null,
   "id": "7cf0a7a3",
   "metadata": {
    "id": "7cf0a7a3",
    "outputId": "d3c0d882-7cb2-46df-93b9-a312fedf3485"
   },
   "outputs": [
    {
     "name": "stdout",
     "output_type": "stream",
     "text": [
      "У меня проблемапроблемапроблемапроблемапроблемапроблемапроблемапроблемапроблемапроблемапроблемапроблемапроблемапроблемапроблемапроблемапроблемапроблемапроблемапроблема\n"
     ]
    }
   ],
   "source": [
    "print('У меня '+ 'проблема'*20)"
   ]
  },
  {
   "cell_type": "code",
   "execution_count": null,
   "id": "17cc4717",
   "metadata": {
    "id": "17cc4717",
    "outputId": "aa421081-e2fb-4c01-ead5-2bd85f3b5bb9"
   },
   "outputs": [
    {
     "name": "stdout",
     "output_type": "stream",
     "text": [
      "3\n",
      "12\n",
      "12\n"
     ]
    }
   ],
   "source": [
    "print(1 + 2)  \n",
    "print('1' + '2')  \n",
    "print(str(1) + str(2))  "
   ]
  },
  {
   "cell_type": "code",
   "execution_count": null,
   "id": "2804695c",
   "metadata": {
    "id": "2804695c",
    "outputId": "51d20a31-ba01-428e-c87b-25b2db06ed17"
   },
   "outputs": [
    {
     "data": {
      "text/plain": [
       "'П'"
      ]
     },
     "execution_count": 4,
     "metadata": {},
     "output_type": "execute_result"
    }
   ],
   "source": [
    "'Программирование'[0]"
   ]
  },
  {
   "cell_type": "code",
   "execution_count": null,
   "id": "79949486",
   "metadata": {
    "id": "79949486",
    "outputId": "d96c79f0-60f4-4951-e74e-1db9f879683d"
   },
   "outputs": [
    {
     "data": {
      "text/plain": [
       "'о'"
      ]
     },
     "execution_count": 5,
     "metadata": {},
     "output_type": "execute_result"
    }
   ],
   "source": [
    "'Программирование'[2]"
   ]
  },
  {
   "cell_type": "code",
   "execution_count": null,
   "id": "b49de262",
   "metadata": {
    "id": "b49de262",
    "outputId": "c8640965-1ed1-4c7e-ad6d-373c9ad91a16"
   },
   "outputs": [
    {
     "data": {
      "text/plain": [
       "'е'"
      ]
     },
     "execution_count": 6,
     "metadata": {},
     "output_type": "execute_result"
    }
   ],
   "source": [
    "'Программирование'[-1]"
   ]
  },
  {
   "cell_type": "code",
   "execution_count": null,
   "id": "1V5SwrFGyse_",
   "metadata": {
    "colab": {
     "base_uri": "https://localhost:8080/",
     "height": 35
    },
    "id": "1V5SwrFGyse_",
    "outputId": "68e74c2f-9075-4df0-f1d1-dbc1abaa1bb6"
   },
   "outputs": [
    {
     "data": {
      "application/vnd.google.colaboratory.intrinsic+json": {
       "type": "string"
      },
      "text/plain": [
       "'н'"
      ]
     },
     "execution_count": 1,
     "metadata": {},
     "output_type": "execute_result"
    }
   ],
   "source": [
    "'Программирование'[-3]"
   ]
  },
  {
   "cell_type": "code",
   "execution_count": null,
   "id": "6ahjU7ANyvEp",
   "metadata": {
    "colab": {
     "base_uri": "https://localhost:8080/",
     "height": 167
    },
    "id": "6ahjU7ANyvEp",
    "outputId": "11f284a7-c0e9-4e48-e7b1-72e9ce5b515f"
   },
   "outputs": [
    {
     "ename": "IndexError",
     "evalue": "ignored",
     "output_type": "error",
     "traceback": [
      "\u001b[0;31m---------------------------------------------------------------------------\u001b[0m",
      "\u001b[0;31mIndexError\u001b[0m                                Traceback (most recent call last)",
      "\u001b[0;32m<ipython-input-2-e274b7c7e2ee>\u001b[0m in \u001b[0;36m<module>\u001b[0;34m()\u001b[0m\n\u001b[0;32m----> 1\u001b[0;31m \u001b[0;34m'Программирование'\u001b[0m\u001b[0;34m[\u001b[0m\u001b[0;34m-\u001b[0m\u001b[0;36m20\u001b[0m\u001b[0;34m]\u001b[0m\u001b[0;34m\u001b[0m\u001b[0;34m\u001b[0m\u001b[0m\n\u001b[0m",
      "\u001b[0;31mIndexError\u001b[0m: string index out of range"
     ]
    }
   ],
   "source": [
    "'Программирование'[-20]"
   ]
  },
  {
   "cell_type": "markdown",
   "id": "LtK3abuU0QJQ",
   "metadata": {
    "id": "LtK3abuU0QJQ"
   },
   "source": [
    "# Числа"
   ]
  },
  {
   "cell_type": "markdown",
   "id": "o5tUMgfj0TFZ",
   "metadata": {
    "id": "o5tUMgfj0TFZ"
   },
   "source": [
    "Вы решили сделать в своей квартире небольшой ремонт и переклеить обои в каждой из 3 комнат (спальня, гостиная и коридор). Рулон флизелиновых обоев под покраску имеет длину 25 метров и ширину 1.06 метра. Считать вручную на листочке не очень интересно, поэтому необходимо написать программу, которая считает ширину и длину помещения и выдаст вам количество рулонов обоев (помните, что рулоны продаются только целиком)"
   ]
  },
  {
   "cell_type": "code",
   "execution_count": null,
   "id": "uI7XGsw79TVM",
   "metadata": {
    "id": "uI7XGsw79TVM"
   },
   "outputs": [],
   "source": [
    "# здесь мы можем решить эту супер-задачу"
   ]
  },
  {
   "cell_type": "markdown",
   "id": "21abed7a",
   "metadata": {
    "id": "21abed7a"
   },
   "source": [
    "### Типы данных: Целые числа - INT (INTEGER)"
   ]
  },
  {
   "cell_type": "code",
   "execution_count": null,
   "id": "fd5993bc",
   "metadata": {
    "id": "fd5993bc",
    "outputId": "88a169db-00ea-4cf7-b92b-54c52d05997a"
   },
   "outputs": [
    {
     "name": "stdout",
     "output_type": "stream",
     "text": [
      "<class 'int'>\n"
     ]
    }
   ],
   "source": [
    "print(type(5))"
   ]
  },
  {
   "cell_type": "code",
   "execution_count": null,
   "id": "3c0fb3b4",
   "metadata": {
    "id": "3c0fb3b4",
    "outputId": "3d568f2b-6994-4a12-dcbd-304a51ae65c9"
   },
   "outputs": [
    {
     "name": "stdout",
     "output_type": "stream",
     "text": [
      "6\n",
      "2\n"
     ]
    }
   ],
   "source": [
    "print(4 + 2)\n",
    "print(4 - 2)"
   ]
  },
  {
   "cell_type": "code",
   "execution_count": null,
   "id": "12d34c84",
   "metadata": {
    "id": "12d34c84",
    "outputId": "e9c4a5c7-2e67-416f-c143-336842305fe0"
   },
   "outputs": [
    {
     "name": "stdout",
     "output_type": "stream",
     "text": [
      "8\n",
      "2.0\n",
      "1\n"
     ]
    }
   ],
   "source": [
    "print(4 * 2)\n",
    "print(4 / 2)\n",
    "print(3 % 2)"
   ]
  },
  {
   "cell_type": "code",
   "execution_count": null,
   "id": "f2c7a60a",
   "metadata": {
    "id": "f2c7a60a",
    "outputId": "253f5cd3-2728-4b60-a22d-ac27d284918c"
   },
   "outputs": [
    {
     "name": "stdout",
     "output_type": "stream",
     "text": [
      "9\n",
      "1.7320508075688772\n"
     ]
    }
   ],
   "source": [
    "print(3 ** 2)\n",
    "print(3 ** (1 / 2))"
   ]
  },
  {
   "cell_type": "markdown",
   "id": "727c030b",
   "metadata": {
    "id": "727c030b"
   },
   "source": [
    "## Типы данных: Вещественные числа - FLOAT"
   ]
  },
  {
   "cell_type": "code",
   "execution_count": null,
   "id": "36fd4ce0",
   "metadata": {
    "id": "36fd4ce0",
    "outputId": "3e3d653b-a237-453a-dab6-c9c17b7b7a27"
   },
   "outputs": [
    {
     "data": {
      "text/plain": [
       "float"
      ]
     },
     "execution_count": 28,
     "metadata": {},
     "output_type": "execute_result"
    }
   ],
   "source": [
    "type(1.5)"
   ]
  },
  {
   "cell_type": "code",
   "execution_count": null,
   "id": "7635af06",
   "metadata": {
    "id": "7635af06",
    "outputId": "ebfe6f57-5c5c-4ec7-d05d-4b50ef8f8835"
   },
   "outputs": [
    {
     "name": "stdout",
     "output_type": "stream",
     "text": [
      "2 3.0\n",
      "2 3.0\n",
      "1.3\n"
     ]
    }
   ],
   "source": [
    "print(2,6 / 2) \n",
    "print(2, 6 / 2)  \n",
    "print(2.6 / 2)  "
   ]
  },
  {
   "cell_type": "code",
   "execution_count": null,
   "id": "d789872d",
   "metadata": {
    "id": "d789872d",
    "outputId": "717f67e3-2167-49e4-e695-c5eb03ac287f"
   },
   "outputs": [
    {
     "name": "stdout",
     "output_type": "stream",
     "text": [
      "4.5\n",
      "4\n",
      "1\n"
     ]
    }
   ],
   "source": [
    "print(9 / 2)  \n",
    "print(9 // 2)  \n",
    "print(9 % 2)  "
   ]
  },
  {
   "cell_type": "code",
   "execution_count": null,
   "id": "96b69a4f",
   "metadata": {
    "id": "96b69a4f",
    "outputId": "99f0f004-69d2-477e-fc06-dacfdf98f351"
   },
   "outputs": [
    {
     "name": "stdout",
     "output_type": "stream",
     "text": [
      "0.30000000000000004\n"
     ]
    }
   ],
   "source": [
    "print(0.1+0.2)"
   ]
  },
  {
   "cell_type": "code",
   "execution_count": null,
   "id": "67d44a18",
   "metadata": {
    "id": "67d44a18",
    "outputId": "fe8f7f62-a87e-4d07-8f5e-e44ef7a5976f"
   },
   "outputs": [
    {
     "data": {
      "text/plain": [
       "2.3223413936165768e+188"
      ]
     },
     "execution_count": 32,
     "metadata": {},
     "output_type": "execute_result"
    }
   ],
   "source": [
    "1.543**1000"
   ]
  },
  {
   "cell_type": "markdown",
   "id": "74138af8",
   "metadata": {
    "id": "74138af8"
   },
   "source": [
    "Такая запись расшифровывается следующим образом и называется научным видом числа:"
   ]
  },
  {
   "cell_type": "markdown",
   "id": "1e07c613",
   "metadata": {
    "id": "1e07c613"
   },
   "source": [
    "$ n \\cdot e+188 = n \\cdot 10^{188} $"
   ]
  },
  {
   "cell_type": "markdown",
   "id": "ea1f6460",
   "metadata": {
    "id": "ea1f6460"
   },
   "source": [
    "## Типы данных: Логические переменные - boolean"
   ]
  },
  {
   "cell_type": "markdown",
   "id": "5bGkt40Z5D9z",
   "metadata": {
    "id": "5bGkt40Z5D9z"
   },
   "source": [
    "Вы решили сделать чат-бот, который будет тренировать грамотность ваших однокурсников и коллег (журналистам надо быть грамотными!). Вам нужно проверять каждое введенное слово: совпадает оно с эталонным написанием или нет? Проще всего это делать с помощью логических выражений. Попробуйте для начала написать код, который будет проверять корректность написания слова \"оттоманка\"(это такой диванчик)"
   ]
  },
  {
   "cell_type": "code",
   "execution_count": null,
   "id": "Hj1BEBJ99Wjn",
   "metadata": {
    "id": "Hj1BEBJ99Wjn"
   },
   "outputs": [],
   "source": [
    "# здесь мы можем решить эту супер-задачу"
   ]
  },
  {
   "cell_type": "code",
   "execution_count": null,
   "id": "c1efc857",
   "metadata": {
    "id": "c1efc857",
    "outputId": "823231e2-78df-4783-f185-3ccae11dbfc8"
   },
   "outputs": [
    {
     "name": "stdout",
     "output_type": "stream",
     "text": [
      "<class 'bool'>\n"
     ]
    }
   ],
   "source": [
    "print(type(False))"
   ]
  },
  {
   "cell_type": "code",
   "execution_count": null,
   "id": "48a0d2cf",
   "metadata": {
    "id": "48a0d2cf",
    "outputId": "425b15ca-7ede-4bc5-bae6-7c6d0f2703e8"
   },
   "outputs": [
    {
     "name": "stdout",
     "output_type": "stream",
     "text": [
      "<class 'str'>\n"
     ]
    }
   ],
   "source": [
    "print(type('True'))"
   ]
  },
  {
   "cell_type": "code",
   "execution_count": null,
   "id": "5b313a2f",
   "metadata": {
    "id": "5b313a2f",
    "outputId": "357b384c-f6e5-45ee-a506-35deaac73896"
   },
   "outputs": [
    {
     "name": "stdout",
     "output_type": "stream",
     "text": [
      "True\n"
     ]
    }
   ],
   "source": [
    "print(34 == 30+4)"
   ]
  },
  {
   "cell_type": "code",
   "execution_count": null,
   "id": "7c058f7c",
   "metadata": {
    "id": "7c058f7c",
    "outputId": "7305c4b3-dff8-4c93-9669-8be1c315226f"
   },
   "outputs": [
    {
     "name": "stdout",
     "output_type": "stream",
     "text": [
      "False\n"
     ]
    }
   ],
   "source": [
    "print(35 == 30-5)"
   ]
  },
  {
   "cell_type": "markdown",
   "id": "b2357297",
   "metadata": {
    "id": "b2357297"
   },
   "source": [
    "## Ошибки в Python и что с ними делать\n",
    "\n",
    "Иногда написанный код не работает. Так бывает. Это не страшно.\n",
    "\n",
    "Например, я хочу вывести на экран текст следующего вида:\n",
    "```\n",
    "День недели: суббота.\n",
    "Моё имя: Маргарита\n",
    "Мой возраст: 28\n",
    "```\n",
    "\n",
    "Я написала свой код в ячейке ниже.\n",
    "\n",
    "Выполните следующую ячейку (казалось бы, что может пойти не так?):"
   ]
  },
  {
   "cell_type": "code",
   "execution_count": null,
   "id": "479c3e4f",
   "metadata": {
    "id": "479c3e4f",
    "outputId": "f7a246a8-bfb8-49c3-b219-2a099641592d"
   },
   "outputs": [
    {
     "name": "stdout",
     "output_type": "stream",
     "text": [
      "День недели: суббота.\n",
      "Моё имя: Маргарита\n"
     ]
    },
    {
     "ename": "TypeError",
     "evalue": "can only concatenate str (not \"int\") to str",
     "output_type": "error",
     "traceback": [
      "\u001b[1;31m---------------------------------------------------------------------------\u001b[0m",
      "\u001b[1;31mTypeError\u001b[0m                                 Traceback (most recent call last)",
      "\u001b[1;32m<ipython-input-3-e89b6c47cbc0>\u001b[0m in \u001b[0;36m<module>\u001b[1;34m\u001b[0m\n\u001b[0;32m      1\u001b[0m \u001b[0mprint\u001b[0m\u001b[1;33m(\u001b[0m\u001b[1;34m'День недели: суббота.'\u001b[0m\u001b[1;33m)\u001b[0m\u001b[1;33m\u001b[0m\u001b[1;33m\u001b[0m\u001b[0m\n\u001b[0;32m      2\u001b[0m \u001b[0mprint\u001b[0m\u001b[1;33m(\u001b[0m\u001b[1;34m'Моё имя: '\u001b[0m \u001b[1;33m+\u001b[0m \u001b[1;34m'Маргарита'\u001b[0m\u001b[1;33m)\u001b[0m\u001b[1;33m\u001b[0m\u001b[1;33m\u001b[0m\u001b[0m\n\u001b[1;32m----> 3\u001b[1;33m \u001b[0mprint\u001b[0m\u001b[1;33m(\u001b[0m\u001b[1;34m'Мой возраст: '\u001b[0m \u001b[1;33m+\u001b[0m \u001b[1;36m28\u001b[0m\u001b[1;33m)\u001b[0m\u001b[1;33m\u001b[0m\u001b[1;33m\u001b[0m\u001b[0m\n\u001b[0m",
      "\u001b[1;31mTypeError\u001b[0m: can only concatenate str (not \"int\") to str"
     ]
    }
   ],
   "source": [
    "print('День недели: суббота.')\n",
    "print('Моё имя: ' + 'Маргарита')\n",
    "print('Мой возраст: ' + 28)"
   ]
  },
  {
   "cell_type": "markdown",
   "id": "10c93a2f",
   "metadata": {
    "id": "10c93a2f"
   },
   "source": [
    "## Переменные и ввод данных"
   ]
  },
  {
   "cell_type": "code",
   "execution_count": null,
   "id": "07280e73",
   "metadata": {
    "id": "07280e73"
   },
   "outputs": [],
   "source": [
    "number = 99\n",
    "my_name = 'Маргарита'"
   ]
  },
  {
   "cell_type": "code",
   "execution_count": null,
   "id": "3d03b121",
   "metadata": {
    "colab": {
     "base_uri": "https://localhost:8080/"
    },
    "id": "3d03b121",
    "outputId": "8437e0ee-9325-4fb3-f179-13d31d34a17e"
   },
   "outputs": [
    {
     "name": "stdout",
     "output_type": "stream",
     "text": [
      "МаргаритаМаргаритаМаргаритаМаргаритаМаргаритаМаргаритаМаргаритаМаргаритаМаргаритаМаргаритаМаргаритаМаргаритаМаргаритаМаргаритаМаргаритаМаргаритаМаргаритаМаргаритаМаргаритаМаргаритаМаргаритаМаргаритаМаргаритаМаргаритаМаргаритаМаргаритаМаргаритаМаргаритаМаргаритаМаргаритаМаргаритаМаргаритаМаргаритаМаргаритаМаргаритаМаргаритаМаргаритаМаргаритаМаргаритаМаргаритаМаргаритаМаргаритаМаргаритаМаргаритаМаргаритаМаргаритаМаргаритаМаргаритаМаргаритаМаргаритаМаргаритаМаргаритаМаргаритаМаргаритаМаргаритаМаргаритаМаргаритаМаргаритаМаргаритаМаргаритаМаргаритаМаргаритаМаргаритаМаргаритаМаргаритаМаргаритаМаргаритаМаргаритаМаргаритаМаргаритаМаргаритаМаргаритаМаргаритаМаргаритаМаргаритаМаргаритаМаргаритаМаргаритаМаргаритаМаргаритаМаргаритаМаргаритаМаргаритаМаргаритаМаргаритаМаргаритаМаргаритаМаргаритаМаргаритаМаргаритаМаргаритаМаргаритаМаргаритаМаргаритаМаргаритаМаргаритаМаргаритаМаргаритаМаргарита\n"
     ]
    }
   ],
   "source": [
    "print(number*my_name)"
   ]
  },
  {
   "cell_type": "markdown",
   "id": "db17bb03",
   "metadata": {
    "id": "db17bb03"
   },
   "source": [
    "## Время приключений!(заданий)"
   ]
  },
  {
   "cell_type": "markdown",
   "id": "07332401",
   "metadata": {
    "id": "07332401"
   },
   "source": [
    "![](https://media.giphy.com/media/fm4WhPMzu9hRK/giphy.gif)"
   ]
  },
  {
   "cell_type": "markdown",
   "id": "2a79cdd9",
   "metadata": {
    "id": "2a79cdd9"
   },
   "source": [
    "**Задание 1** Вы стали учебным ассистентом по курсу программирования на языке Python (вот это повезло!). Вам необходимо написать программу, которая будет считывать две переменных: ФИО и оценку студента и выводить текст: \"Уважаемый ФИО, за курс по Python вы получили ОЦЕНКА!\""
   ]
  },
  {
   "cell_type": "markdown",
   "id": "358598b2",
   "metadata": {
    "id": "358598b2"
   },
   "source": [
    "Пример ввода:\n",
    "    \n",
    "Журналистов Питон Медиакомович\n",
    "\n",
    "10\n",
    "\n",
    "Пример вывода:\n",
    "\n",
    "Уважаемый Журналистов Питон Медиакомович, за курс по Python вы получили 10!"
   ]
  },
  {
   "cell_type": "code",
   "execution_count": null,
   "id": "70269a96",
   "metadata": {
    "id": "70269a96"
   },
   "outputs": [],
   "source": [
    "# ваш супер код"
   ]
  },
  {
   "cell_type": "markdown",
   "id": "bf4fee4e",
   "metadata": {
    "id": "bf4fee4e"
   },
   "source": [
    "**Задание 2** Вы решили следить за своим режимом сна и создать программу, которая будет вычислять нужное время пробуждения в зависимости от времени засыпания и необходимой длительности сна. Напишите программу, которая будет считывать три целых числа : час засыпания, минуты засыпания, длительность сна (в минутах) и выводить время пробуждения в формате **ЧЧ:ММ**. Будем считать, что вы всегда ложитесь спать после полуночи, так как делаете домашки по питону."
   ]
  },
  {
   "cell_type": "markdown",
   "id": "38f7ecc4",
   "metadata": {
    "id": "38f7ecc4"
   },
   "source": [
    "Пример ввода:\n",
    "    \n",
    "1 <br>\n",
    "20 <br>\n",
    "350 <br>\n",
    "\n",
    "Пример вывода:\n",
    "\n",
    "7:10"
   ]
  },
  {
   "cell_type": "code",
   "execution_count": null,
   "id": "fbb147b5",
   "metadata": {
    "id": "fbb147b5"
   },
   "outputs": [],
   "source": [
    "#ваш еще более крутой супер кот (или код)"
   ]
  },
  {
   "cell_type": "markdown",
   "id": "27f9eb3d",
   "metadata": {
    "id": "27f9eb3d"
   },
   "source": [
    "## Пора узнать нечто новое: условные конструкции:"
   ]
  },
  {
   "cell_type": "markdown",
   "id": "06beedc3",
   "metadata": {
    "id": "06beedc3"
   },
   "source": [
    "Иногда бывает нужно выполнять какую-то часть программы только при выполнении определенных условий."
   ]
  },
  {
   "cell_type": "markdown",
   "id": "b3ba3017",
   "metadata": {
    "id": "b3ba3017"
   },
   "source": [
    "Формальная схема:"
   ]
  },
  {
   "cell_type": "markdown",
   "id": "6548a0e7",
   "metadata": {
    "id": "6548a0e7"
   },
   "source": [
    "![](http://krivaksin.ru/wp-content/uploads/2015/11/2015-11-11-11-51-19-Microsoft-PowerPoint-Prezentatsiya1.png)"
   ]
  },
  {
   "cell_type": "markdown",
   "id": "3883e57b",
   "metadata": {
    "id": "3883e57b"
   },
   "source": [
    "Синтаксис в питоне: <br />\n",
    "**if** условие1:<br />\n",
    "&emsp; команды<br />\n",
    "**elif** условие2:<br />\n",
    "&emsp; команды<br />\n",
    "**elif** условие3:<br />\n",
    "&emsp; команды<br />\n",
    "**else**: <br />\n",
    "&emsp; команды<br />\n",
    "\n",
    "Все команды пишутся с отступом."
   ]
  },
  {
   "cell_type": "markdown",
   "id": "b6552f56",
   "metadata": {
    "id": "b6552f56"
   },
   "source": [
    "Неформальный, но такой жизненный пример:"
   ]
  },
  {
   "cell_type": "markdown",
   "id": "13d8d2ed",
   "metadata": {
    "id": "13d8d2ed"
   },
   "source": [
    "<a href=\"https://ibb.co/drfFvxs\"><img src=\"https://i.ibb.co/bP6TVDj/Untitled-Frame-1-13.jpg\" alt=\"Untitled-Frame-1-13\" border=\"0\"></a>"
   ]
  },
  {
   "cell_type": "markdown",
   "id": "e90971be",
   "metadata": {
    "id": "e90971be"
   },
   "source": [
    "**Пример с оценкой:**"
   ]
  },
  {
   "cell_type": "markdown",
   "id": "aa4df55c",
   "metadata": {
    "id": "aa4df55c"
   },
   "source": [
    "if оценка>=8:\n",
    "\n",
    "        получаем автомат\n",
    "elif оценка>=4:\n",
    "\n",
    "        отдыхаем\n",
    "else:\n",
    "\n",
    "        готовимся к экзамену"
   ]
  },
  {
   "cell_type": "markdown",
   "id": "6708b3eb",
   "metadata": {
    "id": "6708b3eb"
   },
   "source": [
    "### Операторы сравнения"
   ]
  },
  {
   "cell_type": "markdown",
   "id": "adf64919",
   "metadata": {
    "id": "adf64919"
   },
   "source": [
    "Как правило, в качестве проверяемого условия используется результат вычисления одного из следующих операторов сравнения:\n",
    "\n",
    "<center> \n",
    "    <table>\n",
    "        <tr>\n",
    "            <th>Логическое выражение </th>\n",
    "            <th> Значение </th>\n",
    "        </tr> \n",
    "        <tr><td>&lt;</td><td> Первый операнд меньше второго </td></tr>\n",
    "        <tr><td>&gt;</td><td> Первый операнд больше второго</td></tr>\n",
    "        <tr><td>&lt;=</td><td> Меньше или равно</td></tr>\n",
    "        <tr><td>&gt;=</td><td> Больше или равно</td></tr>\n",
    "        <tr><td>==</td><td> Два операнда равны </td></tr>\n",
    "        <tr><td>!=</td><td> Два операнда не равны</td></tr>\n",
    "    </table>\n",
    "</center>"
   ]
  },
  {
   "cell_type": "markdown",
   "id": "-qSLw4XN9c0D",
   "metadata": {
    "id": "-qSLw4XN9c0D"
   },
   "source": [
    "Чтобы записать сложное логическое выражение, часто бывают нужны связки \"и\", \"или\" и \"не\".\n",
    "\n",
    "В Питоне они обозначаются как **and**, **or** и **not** соответственно.\n",
    "\n",
    "Операции **and** и **or** являеются бинарными, т.е. должны быть записаны между операндами, например x < 3 or y > 2\n",
    "\n",
    "Операция **not** - унарная и должна быть записана перед единственным своим операндом. Например not 3"
   ]
  },
  {
   "cell_type": "markdown",
   "id": "d813ec81",
   "metadata": {
    "id": "d813ec81"
   },
   "source": [
    "## Пример"
   ]
  },
  {
   "cell_type": "code",
   "execution_count": null,
   "id": "0ce75c6f",
   "metadata": {
    "id": "0ce75c6f"
   },
   "outputs": [],
   "source": [
    "mark = int(input())\n",
    "if mark >= 8:\n",
    "    print(\"Получаем автомат\")\n",
    "elif mark >=4:\n",
    "    print(\"На пересдачу не идем, спокойно отдыхаем\")\n",
    "else:\n",
    "    print('Грозит пересдача, усиленно готовимся')"
   ]
  },
  {
   "cell_type": "code",
   "execution_count": null,
   "id": "b69871e1",
   "metadata": {
    "id": "b69871e1"
   },
   "outputs": [],
   "source": [
    "mark = int(input())\n",
    "if mark >= 8:\n",
    "    print(\"Получаем автомат\")\n",
    "else:\n",
    "    if mark >=4:\n",
    "        print(\"На пересдачу не идем, спокойно отдыхаем\")\n",
    "    else:\n",
    "        print('Грозит пересдача, усиленно готовимся')"
   ]
  },
  {
   "cell_type": "markdown",
   "id": "c03a1f33",
   "metadata": {
    "id": "c03a1f33"
   },
   "source": [
    "### Задача 1\n",
    "\n",
    "Вы пытаетесь понять, положена ли вам ПГАС за успешную учебу. В этом году ПГАС за учебу дают всем, чей GPA превышает 9.5 .Напишите программу, которая считывает GPA и выводит в зависимости от его значения \"Ура, Вы получили пегас!\" или \"Не повезло\". Если введенное число будет больше 10, выведите \"Вы совершенно не умеете считать\"."
   ]
  },
  {
   "cell_type": "code",
   "execution_count": null,
   "id": "8a6c45b9",
   "metadata": {
    "id": "8a6c45b9"
   },
   "outputs": [],
   "source": [
    "#пишите код"
   ]
  },
  {
   "cell_type": "markdown",
   "id": "254c605c",
   "metadata": {
    "id": "254c605c"
   },
   "source": [
    "### Задача 2\n",
    "\n",
    "В соответствии с анализом популярности известного всем паблика \"хайер скул оф мемс\", ваш семинарист выяснил, что успешным является мем, который набрал как минимум 60 лайков и 10 репостов. Пользователь вводит отдельно количество лайков и количество репостов. Выведите фразу \"Ура, топовый мем\", если мем соответствует параметру успешного и \"Чувство юмора следует подкачать\" в обратном случае"
   ]
  },
  {
   "cell_type": "code",
   "execution_count": null,
   "id": "9d45f997",
   "metadata": {
    "id": "9d45f997"
   },
   "outputs": [],
   "source": [
    "#пишите код"
   ]
  },
  {
   "cell_type": "markdown",
   "id": "5e26881f",
   "metadata": {
    "id": "5e26881f"
   },
   "source": [
    "### Задача 3\n",
    "\n",
    "Для данного числа n<100 закончите фразу “У меня на этой неделе...” одним из возможных продолжений: “n дедлайн”, \"n дедлайна”, “n дедлайнов”, правильно склоняя слово “дедлайн”."
   ]
  },
  {
   "cell_type": "code",
   "execution_count": null,
   "id": "429b3a2a",
   "metadata": {
    "id": "429b3a2a"
   },
   "outputs": [],
   "source": [
    "#пишите код"
   ]
  },
  {
   "cell_type": "markdown",
   "id": "b3c26c51",
   "metadata": {
    "id": "b3c26c51"
   },
   "source": [
    "### Задача 4\n",
    "\n",
    "Попробуйте решить задачу про будильник, но уже для случая, когда вы можете лечь до полуночи (т.е., может начаться новый день)"
   ]
  },
  {
   "cell_type": "code",
   "execution_count": null,
   "id": "b3fd60fc",
   "metadata": {
    "id": "b3fd60fc"
   },
   "outputs": [],
   "source": [
    "#пишите код"
   ]
  }
 ],
 "metadata": {
  "colab": {
   "name": "Sem1_Zhur (1).ipynb",
   "provenance": []
  },
  "kernelspec": {
   "display_name": "Python 3",
   "language": "python",
   "name": "python3"
  },
  "language_info": {
   "codemirror_mode": {
    "name": "ipython",
    "version": 3
   },
   "file_extension": ".py",
   "mimetype": "text/x-python",
   "name": "python",
   "nbconvert_exporter": "python",
   "pygments_lexer": "ipython3",
   "version": "3.9.2"
  }
 },
 "nbformat": 4,
 "nbformat_minor": 5
}
